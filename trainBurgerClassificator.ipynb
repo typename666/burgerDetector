{
  "cells": [
    {
      "cell_type": "code",
      "execution_count": null,
      "metadata": {
        "colab": {
          "base_uri": "https://localhost:8080/"
        },
        "id": "0Ec2IP7qBESK",
        "outputId": "284bb5e7-caf2-4e9c-c627-a8e4d7eda988"
      },
      "outputs": [],
      "source": [
        "!unzip /content/drive/MyDrive/webPages.zip"
      ]
    },
    {
      "cell_type": "code",
      "execution_count": 1,
      "metadata": {
        "id": "H2owbJszBJOO"
      },
      "outputs": [],
      "source": [
        "import pandas as pd\n",
        "import numpy as np\n",
        "import cv2\n",
        "from os.path import join\n",
        "from random import randint\n",
        "\n",
        "import tensorflow as tf\n",
        "from tensorflow import keras\n",
        "from keras import layers\n",
        "\n",
        "CSV_PATH= 'webPages.csv'\n",
        "IMG_TRAIN_PATH= 'webPages'\n",
        "IMG_SIZE= (150, 150)\n",
        "BATCH_SIZE= 32\n",
        "ROI_SIZES= np.linspace(0.05, 0.6, 15)"
      ]
    },
    {
      "attachments": {},
      "cell_type": "markdown",
      "metadata": {},
      "source": [
        "Считываем данные и переводим bounding boxes в формат (x1, y1, x2, y2)"
      ]
    },
    {
      "cell_type": "code",
      "execution_count": 2,
      "metadata": {
        "id": "SK0yhQYgBESU"
      },
      "outputs": [],
      "source": [
        "data= pd.read_csv(CSV_PATH)\n",
        "VALID_START= int(len(data)*0.8)\n",
        "data['bbox_width']+= data['bbox_x']\n",
        "data['bbox_height']+= data['bbox_y']"
      ]
    },
    {
      "attachments": {},
      "cell_type": "markdown",
      "metadata": {},
      "source": [
        "Функции для загрузки и преобразования изображений"
      ]
    },
    {
      "cell_type": "code",
      "execution_count": 3,
      "metadata": {
        "id": "Eq6KVPhWBESV"
      },
      "outputs": [],
      "source": [
        "def batch_generator(dataset, batch_size, steps):\n",
        "    dataset= dataset.sample(frac=1).reset_index(drop=True)\n",
        "    \n",
        "    idx=1\n",
        "    while True: \n",
        "        yield load_data(dataset, idx-1, batch_size)\n",
        "        \n",
        "        if idx<steps:\n",
        "            idx+=1\n",
        "        else:\n",
        "            idx=1\n",
        "            \n",
        "def load_data(dataset, idx, batch_size):\n",
        "  def getROIs(img, box, roi_size):\n",
        "      smallerSide= min(img.shape[:2])\n",
        "\n",
        "      roi_side= int(smallerSide*roi_size)\n",
        "\n",
        "      if roi_side<box[2]-box[0] or roi_side<box[3]-box[1]:\n",
        "        return None, None\n",
        "      \n",
        "      xRange= (0, box[0]) if box[0]>img.shape[1]//2 else (box[2]+1, img.shape[1])\n",
        "      yRange= (0, box[1]) if box[1]>img.shape[0]//2 else (box[3]+1, img.shape[0])\n",
        "\n",
        "      if xRange[1]-xRange[0]<roi_side or yRange[1]-yRange[0]<roi_side:\n",
        "         return None, None\n",
        "\n",
        "      xRange=  (xRange[0], xRange[1]-roi_side)\n",
        "      yRange=  (yRange[0], yRange[1]-roi_side)\n",
        "\n",
        "      xLeft, yLeft= randint(*xRange), randint(*yRange)\n",
        "\n",
        "      imgWithoutBurger= img[yLeft:yLeft+roi_side, xLeft:xLeft+roi_side]\n",
        "\n",
        "      xLeftMin, xLeftMax= box[2]-roi_side, box[0]\n",
        "      yLeftMin, yLeftMax= box[3]-roi_side, box[1]\n",
        "\n",
        "      if xLeftMin<0:\n",
        "          xLeftMin= 0\n",
        "      if xLeftMax> img.shape[1]-roi_side:\n",
        "          xLeftMin= img.shape[1]-roi_side\n",
        "      if yLeftMin<0:\n",
        "          yLeftMin= 0\n",
        "      if yLeftMax> img.shape[0]-roi_side:\n",
        "          yLeftMin= img.shape[0]-roi_side\n",
        "\n",
        "      xLeft, yLeft= randint(xLeftMin, xLeftMax), randint(yLeftMin, yLeftMax)\n",
        "      imgWithBurger= img[yLeft:yLeft+roi_side, xLeft:xLeft+roi_side]\n",
        "\n",
        "      return imgWithoutBurger, imgWithBurger\n",
        "  \n",
        "  x_train, y_train= [], []\n",
        "\n",
        "  for row in range(idx, idx+batch_size):\n",
        "    imgName= dataset.iloc[row, 5]\n",
        "\n",
        "    box= np.array(dataset.iloc[row, 1:5], dtype= np.int32)\n",
        "    h, w= dataset.iloc[row, 6:8]\n",
        "\n",
        "    img= cv2.cvtColor(np.array(cv2.imread(join(IMG_TRAIN_PATH, imgName))), cv2.COLOR_BGR2GRAY)/255.0\n",
        "\n",
        "    for roi_size in ROI_SIZES:\n",
        "        imgWithoutBurger, imgWithBurger= getROIs(img, box, roi_size)\n",
        "\n",
        "        if (not imgWithoutBurger is None) and (not imgWithBurger is None):\n",
        "            x_train.append(cv2.resize(imgWithoutBurger, IMG_SIZE))\n",
        "            y_train.append(0.0)\n",
        "            x_train.append(cv2.resize(imgWithBurger, IMG_SIZE))\n",
        "            y_train.append(1.0)\n",
        "    \n",
        "  return tf.convert_to_tensor(x_train), tf.convert_to_tensor(y_train)"
      ]
    },
    {
      "attachments": {},
      "cell_type": "markdown",
      "metadata": {},
      "source": [
        "Создаём загрузчики данных для тренировочного и проверочного датасетов"
      ]
    },
    {
      "cell_type": "code",
      "execution_count": 6,
      "metadata": {
        "id": "pRR-6wBwNJ3u"
      },
      "outputs": [],
      "source": [
        "train_steps= VALID_START//BATCH_SIZE\n",
        "test_steps= (len(data)-VALID_START)//BATCH_SIZE\n",
        "\n",
        "my_training_batch_generator = batch_generator(data[VALID_START:], BATCH_SIZE, train_steps)\n",
        "my_validation_batch_generator = batch_generator(data[VALID_START:], BATCH_SIZE, test_steps)"
      ]
    },
    {
      "attachments": {},
      "cell_type": "markdown",
      "metadata": {},
      "source": [
        "Создаём модель для классификации изображений, на те что содержат бургер-меню и те что не содержат."
      ]
    },
    {
      "cell_type": "code",
      "execution_count": 7,
      "metadata": {
        "id": "D7h0uUDwBESX"
      },
      "outputs": [],
      "source": [
        "model = keras.Sequential([\n",
        "    # tf.keras.layers.Resizing(height, width, interpolation=\"bilinear\"),\n",
        "    tf.keras.layers.RandomFlip(mode=\"horizontal_and_vertical\", input_shape= (*IMG_SIZE, 1)),\n",
        "    layers.Conv2D(4, kernel_size= (5, 5), strides=(2, 2), activation='relu', padding= 'same'),\n",
        "    layers.MaxPool2D(),\n",
        "    layers.Conv2D(8, kernel_size= (3, 3), activation='relu', padding= 'same'),\n",
        "    layers.MaxPool2D(),\n",
        "    layers.Conv2D(16, kernel_size= (3, 3), activation='relu', padding= 'same'),\n",
        "    layers.MaxPool2D(),\n",
        "    layers.Conv2D(8, kernel_size= (3, 3), activation='relu', padding= 'same'),\n",
        "    layers.MaxPool2D(),\n",
        "    layers.Conv2D(4, kernel_size= (3, 3), activation='relu', padding= 'same'),\n",
        "    layers.GlobalAveragePooling2D(),\n",
        "    layers.Dense(1, activation= 'sigmoid')\n",
        "])"
      ]
    },
    {
      "attachments": {},
      "cell_type": "markdown",
      "metadata": {},
      "source": [
        "Обучаем модель с ранней остановкой"
      ]
    },
    {
      "cell_type": "code",
      "execution_count": 8,
      "metadata": {
        "id": "jz2bm685ZE2-"
      },
      "outputs": [],
      "source": [
        "model.compile(optimizer= keras.optimizers.Adam(1e-2), loss= tf.keras.losses.BinaryCrossentropy(), metrics= [tf.keras.metrics.BinaryAccuracy()], run_eagerly= True)"
      ]
    },
    {
      "cell_type": "code",
      "execution_count": null,
      "metadata": {
        "colab": {
          "base_uri": "https://localhost:8080/"
        },
        "id": "CftMorT6Bm6r",
        "outputId": "ad1cf18f-674b-4ef5-a66e-7785e6a42e91"
      },
      "outputs": [],
      "source": [
        "from tensorflow.keras.callbacks import EarlyStopping\n",
        "\n",
        "early_stopping = EarlyStopping(\n",
        "    min_delta=0.001, # minimium amount of change to count as an improvement\n",
        "    patience= 10, # how many epochs to wait before stopping\n",
        "    restore_best_weights=True,\n",
        ")\n",
        "\n",
        "history= model.fit(\n",
        "    my_training_batch_generator, \n",
        "    epochs= 20, \n",
        "    steps_per_epoch= train_steps, \n",
        "    verbose=1,\n",
        "    # callbacks=[early_stopping],\n",
        "    # validation_data= my_validation_batch_generator, \n",
        "    validation_steps= test_steps\n",
        ")"
      ]
    },
    {
      "cell_type": "code",
      "execution_count": null,
      "metadata": {
        "id": "b4tmSA6fSvu0"
      },
      "outputs": [],
      "source": [
        "history_frame = pd.DataFrame(history.history)\n",
        "history_frame.loc[:, ['loss', 'val_loss']].plot()\n",
        "history_frame.loc[:, ['binary_accuracy', 'val_binary_accuracy']].plot();"
      ]
    },
    {
      "attachments": {},
      "cell_type": "markdown",
      "metadata": {},
      "source": [
        "Проверяем модель"
      ]
    },
    {
      "cell_type": "code",
      "execution_count": null,
      "metadata": {
        "id": "k4Sn9XRJBESa"
      },
      "outputs": [],
      "source": [
        "%%time\n",
        "\n",
        "x,y= load_data(data, len(data)-7, 6)\n",
        "pred= model.predict(x)\n",
        "pred.shape"
      ]
    },
    {
      "attachments": {},
      "cell_type": "markdown",
      "metadata": {},
      "source": [
        "Конвертируем в ONNX"
      ]
    },
    {
      "cell_type": "code",
      "execution_count": null,
      "metadata": {
        "id": "AvFsh1quXfQV"
      },
      "outputs": [],
      "source": [
        "import tf2onnx\n",
        "\n",
        "tf2onnx.convert.from_keras(model, output_path='model.onnx')"
      ]
    }
  ],
  "metadata": {
    "accelerator": "GPU",
    "colab": {
      "provenance": []
    },
    "gpuClass": "standard",
    "kernelspec": {
      "display_name": "Python 3",
      "language": "python",
      "name": "python3"
    },
    "language_info": {
      "codemirror_mode": {
        "name": "ipython",
        "version": 3
      },
      "file_extension": ".py",
      "mimetype": "text/x-python",
      "name": "python",
      "nbconvert_exporter": "python",
      "pygments_lexer": "ipython3",
      "version": "3.9.10"
    },
    "orig_nbformat": 4
  },
  "nbformat": 4,
  "nbformat_minor": 0
}
